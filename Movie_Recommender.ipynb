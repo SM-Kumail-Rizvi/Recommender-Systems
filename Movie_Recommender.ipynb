{
 "cells": [
  {
   "cell_type": "markdown",
   "id": "2fe28ffc",
   "metadata": {},
   "source": [
    "# RS ASSIGNMENT 01\n"
   ]
  },
  {
   "cell_type": "markdown",
   "id": "5e1e3fde",
   "metadata": {},
   "source": [
    "## NAME: KUMAIL HAIDER\n",
    "## ROLL: 20K-0455"
   ]
  },
  {
   "cell_type": "markdown",
   "id": "31b7e246",
   "metadata": {},
   "source": [
    "### Question 02 (Part A)"
   ]
  },
  {
   "cell_type": "code",
   "execution_count": 23,
   "id": "f0183329",
   "metadata": {},
   "outputs": [
    {
     "name": "stdout",
     "output_type": "stream",
     "text": [
      "*** WELCOME TO USER BASED RECOMMENDER SYSTEM ***\n",
      "\n",
      "Input a movie name: 20 Million Miles to Earth (1957)\n",
      "Top 5 Recommended Movies by User-Based RS: \n",
      "'Salem's Lot (2004)\n",
      "12 Angry Men (1997)\n",
      "12 Chairs (1976)\n",
      "61* (2001)\n",
      "7 Faces of Dr. Lao (1964)\n"
     ]
    }
   ],
   "source": [
    "import pandas as pd\n",
    "import numpy as np\n",
    "from sklearn.metrics.pairwise import cosine_similarity\n",
    "\n",
    "# NOTE:\n",
    "# For given active user which I take (i.e: userID=2) the output of the top 5 recommended movies mostly remains the same \n",
    "# for any input movie name, it is because we are always recommending movies to the same active user \n",
    "# based on their similarity to other users who have rated the movies. \n",
    "# The recommendations would be different for different active users because the similarity between users would be different.\n",
    "\n",
    "try:\n",
    "    movies_file = pd.read_csv('C:\\\\Users\\mt\\\\movies.csv')\n",
    "    ratings_file = pd.read_csv('C:\\\\Users\\mt\\\\ratings.csv')\n",
    "\n",
    "    merged_file = pd.merge(ratings_file, movies_file, on='movieId')\n",
    "    user_item_matrix = merged_file.pivot_table(index='userId', columns='title', values='rating')\n",
    "\n",
    "#   COMPUTE COSINE SIMILARITY \n",
    "    active_user_similarity = cosine_similarity(user_item_matrix.fillna(0))\n",
    "\n",
    "#   Function to predict ratings\n",
    "    def predict_rating(user_item_matrix, active_user_similarity, active_user_id, movie_title):\n",
    "        active_user_idx = user_item_matrix.index.get_loc(active_user_id)\n",
    "        movie_idx = user_item_matrix.columns.get_loc(movie_title)\n",
    "    \n",
    "        active_user_sim_scores = active_user_similarity[active_user_idx]\n",
    "        active_user_ratings = user_item_matrix.iloc[active_user_idx]\n",
    "    \n",
    "    # As data is big so we take k=10 nearest users to the active user\n",
    "        similar_user_idxs = np.argsort(active_user_sim_scores)[::-1][1:11]\n",
    "    \n",
    "    # COMPUTE MEAN CENTERED RATING\n",
    "        active_user_mean_rating = active_user_ratings.mean()\n",
    "        movie_mean_rating = user_item_matrix[movie_title].mean()\n",
    "        mc_rating = user_item_matrix.iloc[active_user_idx, movie_idx] - active_user_mean_rating - movie_mean_rating\n",
    "    \n",
    "        sim_scores = active_user_sim_scores[similar_user_idxs]\n",
    "        sim_ratings = user_item_matrix.iloc[similar_user_idxs, movie_idx] - user_item_matrix.iloc[similar_user_idxs].mean(axis=1)\n",
    "        weighted_sum = np.sum(sim_scores * sim_ratings)\n",
    "    \n",
    "    #PREDICTION FUNCTION (MEAN CENTERED)\n",
    "        pred_rating = active_user_mean_rating + movie_mean_rating + (weighted_sum / np.sum(np.abs(sim_scores)))\n",
    "        return pred_rating\n",
    "\n",
    "    print(\"*** WELCOME TO USER BASED RECOMMENDER SYSTEM ***\")\n",
    "    movie_name = input(\"\\nInput a movie name: \")\n",
    "    movie_id = movies_file[movies_file['title'] == movie_name]['movieId'].iloc[0]\n",
    "\n",
    "    #SUPPOSE WE TAKE ACTIVE USER=2\n",
    "    active_user_id = 2\n",
    "\n",
    "    pred_ratings = []\n",
    "    for movie_title in user_item_matrix.columns:\n",
    "        if movie_title == movie_name:\n",
    "            continue\n",
    "        pred_rating = predict_rating(user_item_matrix, active_user_similarity, active_user_id, movie_title)\n",
    "        pred_ratings.append((movie_title, pred_rating))\n",
    "\n",
    "    top_movies = sorted(pred_ratings, key=lambda x: x[1], reverse=True)[:5]\n",
    "\n",
    "    print(\"Top 5 Recommended Movies by User-Based RS: \")\n",
    "    for movie in top_movies:\n",
    "        print(movie[0])\n",
    "    \n",
    "except Exception as e:\n",
    "    print(e)"
   ]
  },
  {
   "cell_type": "markdown",
   "id": "fef1973f",
   "metadata": {},
   "source": [
    "### Question 02 (Part B)"
   ]
  },
  {
   "cell_type": "code",
   "execution_count": 25,
   "id": "8d9ff9be",
   "metadata": {},
   "outputs": [
    {
     "name": "stdout",
     "output_type": "stream",
     "text": [
      "*** WELCOME TO CONTENT BASED RECOMMENDER SYSTEM ***\n",
      "Input a movie name: 20 Million Miles to Earth (1957)\n",
      "\n",
      "Top 3 Recommended Movies by Content-Based RS: \n",
      "Meteor (1979)\n",
      "It Came from Outer Space (1953)\n",
      "Earth vs. the Flying Saucers (1956)\n"
     ]
    }
   ],
   "source": [
    "import pandas as pd\n",
    "import numpy as np\n",
    "from sklearn.feature_extraction.text import TfidfVectorizer\n",
    "from sklearn.metrics.pairwise import cosine_similarity\n",
    "\n",
    "try:\n",
    "    movies_file = pd.read_csv('C:\\\\Users\\mt\\\\movies.csv')\n",
    "    ratings_file = pd.read_csv('C:\\\\Users\\mt\\\\ratings.csv')\n",
    "\n",
    "    merged_file = pd.merge(ratings_file, movies_file, on='movieId')\n",
    "\n",
    "    movie_stats = merged_file.groupby('title').agg({'rating': [np.mean, np.size]})\n",
    "\n",
    "    popular_movies = movie_stats['rating']['size'] >= 50\n",
    "    movie_stats = movie_stats[popular_movies].sort_values([('rating', 'mean')], ascending=False)\n",
    "\n",
    "    movies_file['genre_list'] = movies_file['genres'].str.split('|')\n",
    "\n",
    "    movies_file['genre_str'] = movies_file['genre_list'].apply(lambda x: ' '.join(x))\n",
    "\n",
    "# Genre strings vectorization using the library functionTfidfVectorizer\n",
    "    tf_idf = TfidfVectorizer(stop_words='english')\n",
    "    tf_idf_matrix = tf_idf.fit_transform(movies_file['genre_str'])\n",
    "\n",
    "# FINDING COSINE SIMILARITY BETWEEN MOVIES\n",
    "    cosine_sim = cosine_similarity(tf_idf_matrix)\n",
    "\n",
    "    def recommend_movies(movie_name):\n",
    "        movie_id = movies_file[movies_file['title'] == movie_name]['movieId'].iloc[0]\n",
    "        movie_idx = movies_file.index[movies_file['movieId'] == movie_id][0]\n",
    "    \n",
    "    # Finding cosine similarity score\n",
    "        sim_scores = list(enumerate(cosine_sim[movie_idx]))\n",
    "        sim_scores = sorted(sim_scores, key=lambda x: x[1], reverse=True)\n",
    "    \n",
    "    # Select top 3 most similar movies wrt given movie\n",
    "        top_movies = [(movies_file.iloc[idx]['title'], sim_scores[idx][1]) for idx in [i[0] for i in sim_scores[1:4]]]\n",
    "        return top_movies\n",
    "\n",
    "    print(\"*** WELCOME TO CONTENT BASED RECOMMENDER SYSTEM ***\")\n",
    "    movie_name = input(\"Input a movie name: \")\n",
    "    recommended_movies = recommend_movies(movie_name)\n",
    "\n",
    "    print(\"\\nTop 3 Recommended Movies by Content-Based RS: \")\n",
    "    for movie in recommended_movies:\n",
    "        print(movie[0])\n",
    "    \n",
    "except Exception as e:\n",
    "    print(e)"
   ]
  }
 ],
 "metadata": {
  "kernelspec": {
   "display_name": "Python 3",
   "language": "python",
   "name": "python3"
  },
  "language_info": {
   "codemirror_mode": {
    "name": "ipython",
    "version": 3
   },
   "file_extension": ".py",
   "mimetype": "text/x-python",
   "name": "python",
   "nbconvert_exporter": "python",
   "pygments_lexer": "ipython3",
   "version": "3.8.8"
  }
 },
 "nbformat": 4,
 "nbformat_minor": 5
}
